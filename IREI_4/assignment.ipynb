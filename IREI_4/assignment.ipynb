{
 "cells": [
  {
   "cell_type": "code",
   "execution_count": 1,
   "metadata": {},
   "outputs": [],
   "source": [
    "import pandas as pd\n",
    "from sklearn.preprocessing import LabelEncoder\n",
    "from sklearn.impute import SimpleImputer\n",
    "\n",
    "adult_df = pd.read_csv(\"Data/adult.csv\")\n",
    "county_df = pd.read_csv(\"Data/acs2017_county_data.csv\")"
   ]
  },
  {
   "attachments": {},
   "cell_type": "markdown",
   "metadata": {},
   "source": [
    "### Preprocessing"
   ]
  },
  {
   "cell_type": "code",
   "execution_count": 2,
   "metadata": {},
   "outputs": [],
   "source": [
    "adult_df.workclass = adult_df.workclass.apply(lambda x: 'unknown' if (x == '?') else x)\n",
    "adult_df.occupation = adult_df.occupation.apply(lambda x: 'unknown' if (x == '?') else x)\n",
    "\n",
    "# Imputation of nulls using Simple Imputer\n",
    "imputer = SimpleImputer(strategy='most_frequent')\n",
    "county_df['ChildPoverty'] = imputer.fit_transform(county_df[['ChildPoverty']])\n",
    "\n",
    "# Convert Income to binary in county_df\n",
    "county_df.Income = county_df.Income.apply(lambda x: '<=50K' if (x <= 50000) else '>50K')"
   ]
  },
  {
   "cell_type": "code",
   "execution_count": 3,
   "metadata": {},
   "outputs": [],
   "source": [
    "# Encode categorical variables in the adult_df\n",
    "le = LabelEncoder()\n",
    "adult_df['workclass'] = le.fit_transform(adult_df['workclass'])\n",
    "adult_df['education'] = le.fit_transform(adult_df['education'])\n",
    "adult_df['marital.status'] = le.fit_transform(adult_df['marital.status'])\n",
    "adult_df['occupation'] = le.fit_transform(adult_df['occupation'])\n",
    "adult_df['relationship'] = le.fit_transform(adult_df['relationship'])\n",
    "adult_df['race'] = le.fit_transform(adult_df['race'])\n",
    "adult_df['sex'] = le.fit_transform(adult_df['sex'])\n",
    "adult_df['native.country'] = le.fit_transform(adult_df['native.country'])\n",
    "adult_df['income'] = le.fit_transform(adult_df['income'])\n",
    "\n",
    "# Encode categorical variables in the county_df\n",
    "le_county = LabelEncoder()\n",
    "county_df['State'] = le_county.fit_transform(county_df['State'])\n",
    "county_df['County'] = le_county.fit_transform(county_df['County'])\n",
    "county_df['Income'] = le_county.fit_transform(county_df['Income'])"
   ]
  },
  {
   "cell_type": "code",
   "execution_count": 4,
   "metadata": {},
   "outputs": [
    {
     "name": "stderr",
     "output_type": "stream",
     "text": [
      "/Users/victor/miniconda/lib/python3.10/site-packages/sklearn/linear_model/_logistic.py:458: ConvergenceWarning: lbfgs failed to converge (status=1):\n",
      "STOP: TOTAL NO. of ITERATIONS REACHED LIMIT.\n",
      "\n",
      "Increase the number of iterations (max_iter) or scale the data as shown in:\n",
      "    https://scikit-learn.org/stable/modules/preprocessing.html\n",
      "Please also refer to the documentation for alternative solver options:\n",
      "    https://scikit-learn.org/stable/modules/linear_model.html#logistic-regression\n",
      "  n_iter_i = _check_optimize_result(\n"
     ]
    },
    {
     "data": {
      "text/html": [
       "<style>#sk-container-id-1 {color: black;background-color: white;}#sk-container-id-1 pre{padding: 0;}#sk-container-id-1 div.sk-toggleable {background-color: white;}#sk-container-id-1 label.sk-toggleable__label {cursor: pointer;display: block;width: 100%;margin-bottom: 0;padding: 0.3em;box-sizing: border-box;text-align: center;}#sk-container-id-1 label.sk-toggleable__label-arrow:before {content: \"▸\";float: left;margin-right: 0.25em;color: #696969;}#sk-container-id-1 label.sk-toggleable__label-arrow:hover:before {color: black;}#sk-container-id-1 div.sk-estimator:hover label.sk-toggleable__label-arrow:before {color: black;}#sk-container-id-1 div.sk-toggleable__content {max-height: 0;max-width: 0;overflow: hidden;text-align: left;background-color: #f0f8ff;}#sk-container-id-1 div.sk-toggleable__content pre {margin: 0.2em;color: black;border-radius: 0.25em;background-color: #f0f8ff;}#sk-container-id-1 input.sk-toggleable__control:checked~div.sk-toggleable__content {max-height: 200px;max-width: 100%;overflow: auto;}#sk-container-id-1 input.sk-toggleable__control:checked~label.sk-toggleable__label-arrow:before {content: \"▾\";}#sk-container-id-1 div.sk-estimator input.sk-toggleable__control:checked~label.sk-toggleable__label {background-color: #d4ebff;}#sk-container-id-1 div.sk-label input.sk-toggleable__control:checked~label.sk-toggleable__label {background-color: #d4ebff;}#sk-container-id-1 input.sk-hidden--visually {border: 0;clip: rect(1px 1px 1px 1px);clip: rect(1px, 1px, 1px, 1px);height: 1px;margin: -1px;overflow: hidden;padding: 0;position: absolute;width: 1px;}#sk-container-id-1 div.sk-estimator {font-family: monospace;background-color: #f0f8ff;border: 1px dotted black;border-radius: 0.25em;box-sizing: border-box;margin-bottom: 0.5em;}#sk-container-id-1 div.sk-estimator:hover {background-color: #d4ebff;}#sk-container-id-1 div.sk-parallel-item::after {content: \"\";width: 100%;border-bottom: 1px solid gray;flex-grow: 1;}#sk-container-id-1 div.sk-label:hover label.sk-toggleable__label {background-color: #d4ebff;}#sk-container-id-1 div.sk-serial::before {content: \"\";position: absolute;border-left: 1px solid gray;box-sizing: border-box;top: 0;bottom: 0;left: 50%;z-index: 0;}#sk-container-id-1 div.sk-serial {display: flex;flex-direction: column;align-items: center;background-color: white;padding-right: 0.2em;padding-left: 0.2em;position: relative;}#sk-container-id-1 div.sk-item {position: relative;z-index: 1;}#sk-container-id-1 div.sk-parallel {display: flex;align-items: stretch;justify-content: center;background-color: white;position: relative;}#sk-container-id-1 div.sk-item::before, #sk-container-id-1 div.sk-parallel-item::before {content: \"\";position: absolute;border-left: 1px solid gray;box-sizing: border-box;top: 0;bottom: 0;left: 50%;z-index: -1;}#sk-container-id-1 div.sk-parallel-item {display: flex;flex-direction: column;z-index: 1;position: relative;background-color: white;}#sk-container-id-1 div.sk-parallel-item:first-child::after {align-self: flex-end;width: 50%;}#sk-container-id-1 div.sk-parallel-item:last-child::after {align-self: flex-start;width: 50%;}#sk-container-id-1 div.sk-parallel-item:only-child::after {width: 0;}#sk-container-id-1 div.sk-dashed-wrapped {border: 1px dashed gray;margin: 0 0.4em 0.5em 0.4em;box-sizing: border-box;padding-bottom: 0.4em;background-color: white;}#sk-container-id-1 div.sk-label label {font-family: monospace;font-weight: bold;display: inline-block;line-height: 1.2em;}#sk-container-id-1 div.sk-label-container {text-align: center;}#sk-container-id-1 div.sk-container {/* jupyter's `normalize.less` sets `[hidden] { display: none; }` but bootstrap.min.css set `[hidden] { display: none !important; }` so we also need the `!important` here to be able to override the default hidden behavior on the sphinx rendered scikit-learn.org. See: https://github.com/scikit-learn/scikit-learn/issues/21755 */display: inline-block !important;position: relative;}#sk-container-id-1 div.sk-text-repr-fallback {display: none;}</style><div id=\"sk-container-id-1\" class=\"sk-top-container\"><div class=\"sk-text-repr-fallback\"><pre>LogisticRegression()</pre><b>In a Jupyter environment, please rerun this cell to show the HTML representation or trust the notebook. <br />On GitHub, the HTML representation is unable to render, please try loading this page with nbviewer.org.</b></div><div class=\"sk-container\" hidden><div class=\"sk-item\"><div class=\"sk-estimator sk-toggleable\"><input class=\"sk-toggleable__control sk-hidden--visually\" id=\"sk-estimator-id-1\" type=\"checkbox\" checked><label for=\"sk-estimator-id-1\" class=\"sk-toggleable__label sk-toggleable__label-arrow\">LogisticRegression</label><div class=\"sk-toggleable__content\"><pre>LogisticRegression()</pre></div></div></div></div></div>"
      ],
      "text/plain": [
       "LogisticRegression()"
      ]
     },
     "execution_count": 4,
     "metadata": {},
     "output_type": "execute_result"
    }
   ],
   "source": [
    "from sklearn.linear_model import LogisticRegression\n",
    "\n",
    "# Train logistic regression model for adult_df\n",
    "X_adult = pd.DataFrame(adult_df)\n",
    "y_adult = X_adult.pop('income')\n",
    "adult_model = LogisticRegression()\n",
    "adult_model.fit(X_adult, y_adult)\n",
    "\n",
    "# Train logistic regression model for county_df\n",
    "X_county = pd.DataFrame(county_df)\n",
    "y_county = X_county.pop('Income')\n",
    "county_model = LogisticRegression()\n",
    "county_model.fit(X_county, y_county)"
   ]
  },
  {
   "cell_type": "code",
   "execution_count": 5,
   "metadata": {},
   "outputs": [
    {
     "name": "stdout",
     "output_type": "stream",
     "text": [
      "Adults Dataset:  0.7876907957372317\n",
      "County Dataset:  0.7838509316770186\n"
     ]
    }
   ],
   "source": [
    "from sklearn.metrics import accuracy_score\n",
    "\n",
    "y_pred_adult = adult_model.predict(X_adult)\n",
    "print(\"Adults Dataset: \", accuracy_score(y_adult, y_pred_adult))\n",
    "\n",
    "y_pred_county = county_model.predict(X_county)\n",
    "print(\"County Dataset: \", accuracy_score(y_county, y_pred_county))"
   ]
  },
  {
   "cell_type": "code",
   "execution_count": 6,
   "metadata": {},
   "outputs": [],
   "source": [
    "adult_df.insert(loc=0, column='score', value=y_pred_adult)\n",
    "\n",
    "adult_df = adult_df.rename(columns={\"income\": \"label_value\"})\n",
    "cols = adult_df.columns.tolist()\n",
    "cols.remove('label_value')\n",
    "cols.insert(1, 'label_value')\n",
    "adult_df = adult_df[cols]\n",
    "\n",
    "adult_df.to_csv('adult_processed.csv', index=False)\n",
    "\n",
    "\n",
    "county_df.insert(loc=0, column='score', value=y_pred_county)\n",
    "\n",
    "county_df = county_df.rename(columns={\"Income\": \"label_value\"})\n",
    "cols = county_df.columns.tolist()\n",
    "cols.remove('label_value')\n",
    "cols.insert(1, 'label_value')\n",
    "county_df = county_df[cols]\n",
    "\n",
    "county_df.to_csv('acs2017_county_data_processed.csv', index=False)"
   ]
  }
 ],
 "metadata": {
  "kernelspec": {
   "display_name": "tfdml_plugin",
   "language": "python",
   "name": "python3"
  },
  "language_info": {
   "codemirror_mode": {
    "name": "ipython",
    "version": 3
   },
   "file_extension": ".py",
   "mimetype": "text/x-python",
   "name": "python",
   "nbconvert_exporter": "python",
   "pygments_lexer": "ipython3",
   "version": "3.10.9"
  },
  "orig_nbformat": 4
 },
 "nbformat": 4,
 "nbformat_minor": 2
}
