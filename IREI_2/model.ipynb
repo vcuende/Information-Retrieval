{
 "cells": [
  {
   "attachments": {},
   "cell_type": "markdown",
   "metadata": {},
   "source": [
    "# IREI: Search Engines & Real World Data\n",
    "### Víctor Morcuende Castell and Guillermo Nájera Lavid\n",
    "#### Course 2022-2023"
   ]
  },
  {
   "cell_type": "code",
   "execution_count": 92,
   "metadata": {},
   "outputs": [],
   "source": [
    "import pandas as pd\n",
    "from sklearn.model_selection import train_test_split\n",
    "from sklearn import preprocessing\n",
    "from sklearn.ensemble import AdaBoostRegressor\n",
    "from sklearn.tree import DecisionTreeRegressor\n",
    "from sklearn.metrics import ndcg_score"
   ]
  },
  {
   "cell_type": "code",
   "execution_count": 93,
   "metadata": {},
   "outputs": [],
   "source": [
    "# Load data\n",
    "glucose_df = pd.read_excel('loinc_dataset-v2.xlsx', sheet_name = \"glucose in blood\")\n",
    "bilirubin_df = pd.read_excel('loinc_dataset-v2.xlsx', sheet_name = \"bilirubin in plasma\")\n",
    "wbc_df = pd.read_excel('loinc_dataset-v2.xlsx', sheet_name = \"White blood cells count\")\n",
    "glucose_target = glucose_df.pop('relevant')\n",
    "bilirubin_target = bilirubin_df.pop('relevant')\n",
    "wbc_target = wbc_df.pop('relevant')"
   ]
  },
  {
   "cell_type": "code",
   "execution_count": 94,
   "metadata": {},
   "outputs": [],
   "source": [
    "# We eliminate irrelevant information\n",
    "glucose_df = glucose_df.drop('comments', axis=1)\n",
    "glucose_df = glucose_df.drop('loinc_num', axis=1)\n",
    "bilirubin_df = bilirubin_df.drop('comments', axis=1)\n",
    "bilirubin_df = bilirubin_df.drop('loinc_num', axis=1)\n",
    "wbc_df = wbc_df.drop('comments', axis=1)\n",
    "wbc_df = wbc_df.drop('loinc_num', axis=1)"
   ]
  },
  {
   "cell_type": "code",
   "execution_count": 95,
   "metadata": {},
   "outputs": [],
   "source": [
    "# Using OneHotEncoder\n",
    "ohe = preprocessing.OneHotEncoder(sparse_output=False)\n",
    "glucose_df = pd.DataFrame(ohe.fit_transform(glucose_df),\n",
    "                          columns=ohe.get_feature_names_out(glucose_df.columns.tolist()),\n",
    "                          index=glucose_df.index)\n",
    "bilirubin_df = pd.DataFrame(ohe.fit_transform(bilirubin_df),\n",
    "                            columns=ohe.get_feature_names_out(bilirubin_df.columns.tolist()),\n",
    "                            index=bilirubin_df.index)\n",
    "wbc_df = pd.DataFrame(ohe.fit_transform(wbc_df),\n",
    "                      columns=ohe.get_feature_names_out(wbc_df.columns.tolist()),\n",
    "                      index=wbc_df.index)"
   ]
  },
  {
   "attachments": {},
   "cell_type": "markdown",
   "metadata": {},
   "source": [
    "WE TRAIN AN ADARANK MODEL USING THE METHOD IMPORTED FROM SKLEARN"
   ]
  },
  {
   "attachments": {},
   "cell_type": "markdown",
   "metadata": {},
   "source": [
    "Query: Glucose in Blood"
   ]
  },
  {
   "cell_type": "code",
   "execution_count": 96,
   "metadata": {},
   "outputs": [
    {
     "name": "stdout",
     "output_type": "stream",
     "text": [
      "Model NDCG score: 0.9409203809871785\n",
      "Iterations needed to achieve a score above 0.9: 9\n"
     ]
    }
   ],
   "source": [
    "iter = 0\n",
    "while(True):\n",
    "    iter = iter+1\n",
    "    X_train, X_test, y_train, y_test = train_test_split(glucose_df, glucose_target, test_size=0.2)\n",
    "    estimator = DecisionTreeRegressor(max_depth=1)\n",
    "    model = AdaBoostRegressor(estimator=estimator, n_estimators=100, loss='linear')\n",
    "    model.fit(X_train, y_train)\n",
    "    y_pred = model.predict(X_test)\n",
    "    ndcg = ndcg_score([y_test], [y_pred], k=X_test.shape[1])\n",
    "    if ndcg >= 0.9:\n",
    "        print('Model NDCG score:', ndcg)\n",
    "        print(\"Iterations needed to achieve a score above 0.9:\", iter)\n",
    "        break\n"
   ]
  },
  {
   "attachments": {},
   "cell_type": "markdown",
   "metadata": {},
   "source": [
    "Query: Bilirubin in Plasma"
   ]
  },
  {
   "cell_type": "code",
   "execution_count": 97,
   "metadata": {},
   "outputs": [
    {
     "name": "stdout",
     "output_type": "stream",
     "text": [
      "Model NDCG score: 1.0\n",
      "Iterations needed to achieve a score above 0.9: 49\n"
     ]
    }
   ],
   "source": [
    "iter = 0\n",
    "while(True):\n",
    "    iter = iter+1\n",
    "    X_train, X_test, y_train, y_test = train_test_split(bilirubin_df, bilirubin_target, test_size=0.2)\n",
    "    estimator = DecisionTreeRegressor(max_depth=1)\n",
    "    model = AdaBoostRegressor(estimator=estimator, n_estimators=100, loss='linear')\n",
    "    model.fit(X_train, y_train)\n",
    "    y_pred = model.predict(X_test)\n",
    "    ndcg = ndcg_score([y_test], [y_pred], k=X_test.shape[1])\n",
    "    if ndcg >= 0.9:\n",
    "        print('Model NDCG score:', ndcg)\n",
    "        print(\"Iterations needed to achieve a score above 0.9:\", iter)\n",
    "        break"
   ]
  },
  {
   "attachments": {},
   "cell_type": "markdown",
   "metadata": {},
   "source": [
    "Query: White Blood Cells Count"
   ]
  },
  {
   "cell_type": "code",
   "execution_count": 98,
   "metadata": {},
   "outputs": [
    {
     "name": "stdout",
     "output_type": "stream",
     "text": [
      "Model NDCG score: 0.923928388719314\n",
      "Iterations needed to achieve a score above 0.9: 113\n"
     ]
    }
   ],
   "source": [
    "iter = 0\n",
    "while(True):\n",
    "    iter = iter+1\n",
    "    X_train, X_test, y_train, y_test = train_test_split(wbc_df, wbc_target, test_size=0.2)\n",
    "    estimator = DecisionTreeRegressor(max_depth=1)\n",
    "    model = AdaBoostRegressor(estimator=estimator, n_estimators=100, loss='linear')\n",
    "    model.fit(X_train, y_train)\n",
    "    y_pred = model.predict(X_test)\n",
    "    ndcg = ndcg_score([y_test], [y_pred], k=X_test.shape[1])\n",
    "    if ndcg >= 0.9:\n",
    "        print('Model NDCG score:', ndcg)\n",
    "        print(\"Iterations needed to achieve a score above 0.9:\", iter)\n",
    "        break"
   ]
  },
  {
   "attachments": {},
   "cell_type": "markdown",
   "metadata": {},
   "source": [
    "#### EXTENDING THE DATASETS"
   ]
  },
  {
   "cell_type": "code",
   "execution_count": 99,
   "metadata": {},
   "outputs": [],
   "source": [
    "# Load the new data\n",
    "extended_glucose_df = pd.read_excel('extended_loinc_dataset-v2.xlsx', sheet_name = \"glucose in blood\")\n",
    "extended_bilirubin_df = pd.read_excel('extended_loinc_dataset-v2.xlsx', sheet_name = \"bilirubin in plasma\")\n",
    "extended_wbc_df = pd.read_excel('extended_loinc_dataset-v2.xlsx', sheet_name = \"White blood cells count\")\n",
    "extended_glucose_target = extended_glucose_df.pop('relevant')\n",
    "extended_bilirubin_target = extended_bilirubin_df.pop('relevant')\n",
    "extended_wbc_target = extended_wbc_df.pop('relevant')"
   ]
  },
  {
   "cell_type": "code",
   "execution_count": 100,
   "metadata": {},
   "outputs": [],
   "source": [
    "# We eliminate irrelevant information\n",
    "extended_glucose_df = extended_glucose_df.drop('comments', axis=1)\n",
    "extended_glucose_df = extended_glucose_df.drop('loinc_num', axis=1)\n",
    "extended_bilirubin_df = extended_bilirubin_df.drop('comments', axis=1)\n",
    "extended_bilirubin_df = extended_bilirubin_df.drop('loinc_num', axis=1)\n",
    "extended_wbc_df = extended_wbc_df.drop('comments', axis=1)\n",
    "extended_wbc_df = extended_wbc_df.drop('loinc_num', axis=1)"
   ]
  },
  {
   "cell_type": "code",
   "execution_count": 101,
   "metadata": {},
   "outputs": [],
   "source": [
    "# Using OneHotEncoder\n",
    "ohe = preprocessing.OneHotEncoder(sparse_output=False)\n",
    "extended_glucose_df = pd.DataFrame(ohe.fit_transform(extended_glucose_df), \n",
    "                                   columns=ohe.get_feature_names_out(extended_glucose_df.columns.tolist()),\n",
    "                                   index=extended_glucose_df.index)\n",
    "extended_bilirubin_df = pd.DataFrame(ohe.fit_transform(extended_bilirubin_df), \n",
    "                                     columns=ohe.get_feature_names_out(extended_bilirubin_df.columns.tolist()),\n",
    "                                     index=extended_bilirubin_df.index)\n",
    "extended_wbc_df = pd.DataFrame(ohe.fit_transform(extended_wbc_df), \n",
    "                               columns=ohe.get_feature_names_out(extended_wbc_df.columns.tolist()),\n",
    "                               index=extended_wbc_df.index)"
   ]
  },
  {
   "attachments": {},
   "cell_type": "markdown",
   "metadata": {},
   "source": [
    "WE TRAIN AN ADARANK MODEL USING THE METHOD IMPORTED FROM SKLEARN"
   ]
  },
  {
   "attachments": {},
   "cell_type": "markdown",
   "metadata": {},
   "source": [
    "Query: Glucose in Blood"
   ]
  },
  {
   "cell_type": "code",
   "execution_count": 102,
   "metadata": {},
   "outputs": [
    {
     "name": "stdout",
     "output_type": "stream",
     "text": [
      "Model NDCG score: 0.9328509665484749\n",
      "Iterations needed to achieve a score above 0.9: 3\n"
     ]
    }
   ],
   "source": [
    "iter = 0\n",
    "while(True):\n",
    "    iter = iter+1\n",
    "    X_train, X_test, y_train, y_test = train_test_split(extended_glucose_df, extended_glucose_target, test_size=0.2)\n",
    "    estimator = DecisionTreeRegressor(max_depth=1)\n",
    "    model = AdaBoostRegressor(estimator=estimator, n_estimators=100, loss='linear')\n",
    "    model.fit(X_train, y_train)\n",
    "    y_pred = model.predict(X_test)\n",
    "    ndcg = ndcg_score([y_test], [y_pred], k=X_test.shape[1])\n",
    "    if ndcg >= 0.9:\n",
    "        print('Model NDCG score:', ndcg)\n",
    "        print(\"Iterations needed to achieve a score above 0.9:\", iter)\n",
    "        break"
   ]
  },
  {
   "attachments": {},
   "cell_type": "markdown",
   "metadata": {},
   "source": [
    "Query: Bilirubin in Plasma"
   ]
  },
  {
   "cell_type": "code",
   "execution_count": 103,
   "metadata": {},
   "outputs": [
    {
     "name": "stdout",
     "output_type": "stream",
     "text": [
      "Model NDCG score: 0.9146523650946982\n",
      "Iterations needed to achieve a score above 0.9: 20\n"
     ]
    }
   ],
   "source": [
    "iter = 0\n",
    "while(True):\n",
    "    iter = iter+1\n",
    "    X_train, X_test, y_train, y_test = train_test_split(extended_bilirubin_df, extended_bilirubin_target, test_size=0.2)\n",
    "    estimator = DecisionTreeRegressor(max_depth=1)\n",
    "    model = AdaBoostRegressor(estimator=estimator, n_estimators=100, loss='linear')\n",
    "    model.fit(X_train, y_train)\n",
    "    y_pred = model.predict(X_test)\n",
    "    ndcg = ndcg_score([y_test], [y_pred], k=X_test.shape[1])\n",
    "    if ndcg >= 0.9:\n",
    "        print('Model NDCG score:', ndcg)\n",
    "        print(\"Iterations needed to achieve a score above 0.9:\", iter)\n",
    "        break"
   ]
  },
  {
   "attachments": {},
   "cell_type": "markdown",
   "metadata": {},
   "source": [
    "Query: White Blood Cells Count"
   ]
  },
  {
   "cell_type": "code",
   "execution_count": 104,
   "metadata": {},
   "outputs": [
    {
     "name": "stdout",
     "output_type": "stream",
     "text": [
      "Model NDCG score: 0.9263221439514678\n",
      "Iterations needed to achieve a score above 0.9: 1\n"
     ]
    }
   ],
   "source": [
    "iter = 0\n",
    "while(True):\n",
    "    iter = iter+1\n",
    "    X_train, X_test, y_train, y_test = train_test_split(extended_wbc_df, extended_wbc_target, test_size=0.2)\n",
    "    estimator = DecisionTreeRegressor(max_depth=1)\n",
    "    model = AdaBoostRegressor(estimator=estimator, n_estimators=100, loss='linear')\n",
    "    model.fit(X_train, y_train)\n",
    "    y_pred = model.predict(X_test)\n",
    "    ndcg = ndcg_score([y_test], [y_pred], k=X_test.shape[1])\n",
    "    if ndcg >= 0.9:\n",
    "        print('Model NDCG score:', ndcg)\n",
    "        print(\"Iterations needed to achieve a score above 0.9:\", iter)\n",
    "        break"
   ]
  }
 ],
 "metadata": {
  "kernelspec": {
   "display_name": "Python 3",
   "language": "python",
   "name": "python3"
  },
  "language_info": {
   "codemirror_mode": {
    "name": "ipython",
    "version": 3
   },
   "file_extension": ".py",
   "mimetype": "text/x-python",
   "name": "python",
   "nbconvert_exporter": "python",
   "pygments_lexer": "ipython3",
   "version": "3.10.9"
  },
  "orig_nbformat": 4
 },
 "nbformat": 4,
 "nbformat_minor": 2
}
